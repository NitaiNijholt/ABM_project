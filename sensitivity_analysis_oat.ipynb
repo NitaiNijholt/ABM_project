{
 "cells": [
  {
   "cell_type": "code",
   "execution_count": null,
   "id": "1f9b548c",
   "metadata": {},
   "outputs": [],
   "source": [
    "import numpy as np\n",
    "from SALib.sample import morris\n",
    "from SALib.analyze import morris as morris_analyze\n",
    "import os\n",
    "from simulation import Simulation\n",
    "from grid import Grid\n",
    "import matplotlib.pyplot as plt\n",
    "import pandas as pd\n"
   ]
  },
  {
   "cell_type": "code",
   "execution_count": null,
   "id": "47f16d7d",
   "metadata": {},
   "outputs": [],
   "source": [
    "def gini_coefficient(wealths):\n",
    "    n = len(wealths)\n",
    "    sorted_wealths = sorted(wealths)\n",
    "    cumulative_wealths = [sum(sorted_wealths[:i+1]) for i in range(n)]\n",
    "    numerator = sum((i + 1) * sorted_wealths[i] for i in range(n)) - (n + 1) * cumulative_wealths[-1] / 2\n",
    "    denominator = n * cumulative_wealths[-1]\n",
    "    return numerator / denominator\n",
    "\n",
    "# Ensure the directory exists for saving the results\n",
    "save_dir = \"morris_results\"\n",
    "os.makedirs(save_dir, exist_ok=True)\n",
    "\n",
    "baseline_params = {\n",
    "    'num_agents': 50,\n",
    "    'n_timesteps': 300,\n",
    "    'num_resources': 500,\n",
    "    'lifetime_mean': 80,\n",
    "    'lifetime_std': 10,\n",
    "    'resource_spawn_rate': 0.5,\n",
    "    'order_expiry_time': 5,\n",
    "    'tax_period': 3,\n",
    "    'income_per_timestep': 3\n",
    "}\n",
    "\n",
    "problem = {\n",
    "    'num_vars': 9,\n",
    "    'names': ['num_agents', 'n_timesteps', 'num_resources', 'lifetime_mean', 'lifetime_std', \n",
    "              'resource_spawn_rate', 'order_expiry_time', 'tax_period', 'income_per_timestep'],\n",
    "    'bounds': [[10, 60], [100, 500], [100, 600], [50, 110], [5, 20], [0.1, 1.0], [1, 10], [1, 10], [1, 10]]\n",
    "}\n",
    "\n",
    "param_values = morris.sample(problem, N=100, num_levels=4, optimal_trajectories=None)\n",
    "\n",
    "results = []\n",
    "for i in range(len(param_values)):\n",
    "    sim_params = baseline_params.copy()\n",
    "    for j, param in enumerate(problem['names']):\n",
    "        # Cast float values to int where necessary\n",
    "        if param in ['num_agents', 'n_timesteps', 'num_resources', 'lifetime_mean', 'lifetime_std', 'order_expiry_time', 'tax_period', 'income_per_timestep']:\n",
    "            sim_params[param] = int(param_values[i, j])\n",
    "        else:\n",
    "            sim_params[param] = param_values[i, j]\n",
    "    sim = Simulation(**sim_params, grid=Grid(width=60, height=60, house_cost=(2, 2)), show_time=True, dynamic_tax=True, dynamic_market=True)\n",
    "    sim.run()\n",
    "    results.append(sim.data)\n",
    "    sim.save_results(f'morris_results/simulation_{i}_analysis.csv')"
   ]
  },
  {
   "cell_type": "code",
   "execution_count": null,
   "id": "3e18365e",
   "metadata": {},
   "outputs": [],
   "source": [
    "gini_coefficients = [gini_coefficient(pd.DataFrame(run)['wealth']) for run in results]\n",
    "gini_coefficients = np.array(gini_coefficients)\n",
    "\n",
    "# Perform Morris sensitivity analysis\n",
    "Si = morris_analyze.analyze(problem, param_values, gini_coefficients, conf_level=0.95, print_to_console=True)"
   ]
  },
  {
   "cell_type": "code",
   "execution_count": null,
   "id": "fd119b0e",
   "metadata": {},
   "outputs": [],
   "source": [
    "# Plotting results\n",
    "plt.figure(figsize=(10, 6))\n",
    "plt.bar(problem['names'], Si['mu_star'], yerr=Si['mu_star_conf'], capsize=5)\n",
    "plt.title('Morris Method - Mean of Elementary Effects Based on Gini Coefficient (\\u03BC*)')\n",
    "plt.ylabel('\\u03BC*')\n",
    "plt.xlabel('Parameters')\n",
    "plt.xticks(rotation=45, ha='right')  \n",
    "plt.tight_layout()  \n",
    "plt.savefig('morris_results/morris_sensitivity.png')\n",
    "plt.show()"
   ]
  }
 ],
 "metadata": {
  "kernelspec": {
   "display_name": "Python 3 (ipykernel)",
   "language": "python",
   "name": "python3"
  },
  "language_info": {
   "codemirror_mode": {
    "name": "ipython",
    "version": 3
   },
   "file_extension": ".py",
   "mimetype": "text/x-python",
   "name": "python",
   "nbconvert_exporter": "python",
   "pygments_lexer": "ipython3",
   "version": "3.9.18"
  }
 },
 "nbformat": 4,
 "nbformat_minor": 5
}
